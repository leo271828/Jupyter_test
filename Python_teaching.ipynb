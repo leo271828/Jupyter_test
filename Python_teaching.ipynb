{
 "cells": [
  {
   "cell_type": "code",
   "execution_count": 7,
   "id": "225d52ca",
   "metadata": {},
   "outputs": [
    {
     "name": "stdout",
     "output_type": "stream",
     "text": [
      "我的學期平均： 54.6 分\n",
      "有被當？： 被當囉ㄏ\n",
      "當幾科？： One\n"
     ]
    }
   ],
   "source": [
    "# high = int(input(\"高微：\"))\n",
    "# alg = int(input(\"代數：\"))\n",
    "# num = int(input(\"數值：\"))\n",
    "high, alg, num = 42, 76, 50\n",
    "\n",
    "avg = (high*4 + alg*3 + num*3) / 10\n",
    "print(\"我的學期平均： \" + str(avg) + \" 分\")\n",
    "\n",
    "print(\"有被當？：\", end=' ')\n",
    "if avg < 60:\n",
    "    print(\"被當囉ㄏ\")\n",
    "else :\n",
    "    print(\"過了啦！\")\n",
    "    \n",
    "total = high >=60 \n",
    "\n",
    "print(\"當幾科？：\", end=' ')\n",
    "if (high < 60) and (alg < 60) :\n",
    "    print(\"Both\")\n",
    "elif (high < 60) or (alg < 60):\n",
    "    print(\"One\")\n",
    "else:\n",
    "    print(\"Pass\")\n",
    "    "
   ]
  },
  {
   "cell_type": "code",
   "execution_count": 12,
   "id": "3fbf1caa",
   "metadata": {},
   "outputs": [
    {
     "data": {
      "text/plain": [
       "1"
      ]
     },
     "execution_count": 12,
     "metadata": {},
     "output_type": "execute_result"
    }
   ],
   "source": [
    "total = (high<60) + (alg<60) + (num<60)\n",
    "total"
   ]
  },
  {
   "cell_type": "code",
   "execution_count": 183,
   "id": "2fc755ee",
   "metadata": {},
   "outputs": [],
   "source": [
    "fruit = ['apple', 'bnn', 'yo', 'poo']\n",
    "mix = [1, 2, 10, 5, 8, 7, 2]\n",
    "mix.sort()\n",
    "mix.reverse()\n",
    "tt = (1, 2, 3 ,4)"
   ]
  },
  {
   "cell_type": "code",
   "execution_count": 167,
   "id": "e7483efa",
   "metadata": {},
   "outputs": [
    {
     "data": {
      "text/plain": [
       "dict_values([[20, 12, 5], [5, 15]])"
      ]
     },
     "execution_count": 167,
     "metadata": {},
     "output_type": "execute_result"
    }
   ],
   "source": [
    "grade = {\n",
    "    'Chinese' : [20, 12],\n",
    "    'Math' : [5, 15]\n",
    "}\n",
    "grade['Chinese'].append(5)\n",
    "grade['Chinese']\n",
    "grade_key = list(grade.keys())\n",
    "# 被當掉 = grade_key.pop()\n",
    "# 被當掉\n",
    "grade.values()"
   ]
  },
  {
   "cell_type": "code",
   "execution_count": 190,
   "id": "64dc4c22",
   "metadata": {},
   "outputs": [
    {
     "name": "stdout",
     "output_type": "stream",
     "text": [
      "apple\n",
      "yo\n"
     ]
    }
   ],
   "source": [
    "# for(int i=0;i<10;i<<)\n",
    "#     cout << i << endl;\n",
    "\n",
    "fruit = ['apple', 'bnn', 'yo', 'poo']\n",
    "\n",
    "for i in fruit:\n",
    "    print(i)\n"
   ]
  },
  {
   "cell_type": "code",
   "execution_count": 16,
   "id": "fe42b243-428e-4fec-88c9-87bb27ecb940",
   "metadata": {},
   "outputs": [
    {
     "name": "stdout",
     "output_type": "stream",
     "text": [
      "[3, 1, 4, 1, 5, 9, 2, 6, 5, 3]\n",
      "[3, 1, 4, 1, 5, [9, 2, 6, 5, 3]]\n",
      "[1, 1, 2, 3, 3, 4, 5, 5, 6, 9]\n",
      "[9, 6, 5, 5, 4, 3, 3, 2, 1, 1]\n",
      "2 5 8 11 14 17 20 23 26 29 32 35 38 41 44 47 \n",
      "9\n",
      "6\n",
      "5\n",
      "5\n",
      "\n",
      "胡拉拉\n",
      "安潔莉娜裘莉\n"
     ]
    }
   ],
   "source": [
    "yo = [3, 1, 4, 1, 5]\n",
    "battle = [9, 2, 6, 5, 3]\n",
    "name = ['貍克', '胡拉拉', '七七', '小潤', '安潔莉娜裘莉', '阿豪']\n",
    "mix = yo + battle\n",
    "print(mix)\n",
    "\n",
    "yo.append(battle)\n",
    "print(yo)\n",
    "\n",
    "mix.sort()\n",
    "print(mix)\n",
    "\n",
    "mix.sort(reverse = True)\n",
    "print(mix)\n",
    "\n",
    "for i in range(2, 50, 3):\n",
    "    print(i, end = ' ')\n",
    "print()\n",
    "\n",
    "for i in mix:\n",
    "    if i>4 :\n",
    "        print(i)\n",
    "print()\n",
    "\n",
    "name.pop()\n",
    "for i in name:\n",
    "    if len(i)>2:\n",
    "        print(i)\n",
    "        "
   ]
  }
 ],
 "metadata": {
  "kernelspec": {
   "display_name": "Python 3",
   "language": "python",
   "name": "python3"
  },
  "language_info": {
   "codemirror_mode": {
    "name": "ipython",
    "version": 3
   },
   "file_extension": ".py",
   "mimetype": "text/x-python",
   "name": "python",
   "nbconvert_exporter": "python",
   "pygments_lexer": "ipython3",
   "version": "3.8.8"
  }
 },
 "nbformat": 4,
 "nbformat_minor": 5
}
