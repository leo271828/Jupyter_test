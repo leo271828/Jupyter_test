{
 "cells": [
  {
   "cell_type": "markdown",
   "id": "785050c4",
   "metadata": {
    "slideshow": {
     "slide_type": "slide"
    }
   },
   "source": [
    "# Python 簡單測試\n",
    "> 2022.05.14\n",
    "\n"
   ]
  },
  {
   "cell_type": "markdown",
   "id": "2772ee48",
   "metadata": {
    "slideshow": {
     "slide_type": "slide"
    }
   },
   "source": [
    "# Python 是什麼呢?\n"
   ]
  },
  {
   "cell_type": "markdown",
   "id": "37b48cac",
   "metadata": {
    "slideshow": {
     "slide_type": "subslide"
    }
   },
   "source": [
    "## 特性\n",
    "* 就是要簡單、直白\n",
    "* 資料分析的最愛\n",
    "* 物件導向"
   ]
  },
  {
   "cell_type": "code",
   "execution_count": 6,
   "id": "3a4d1286",
   "metadata": {
    "slideshow": {
     "slide_type": "subslide"
    }
   },
   "outputs": [
    {
     "name": "stdout",
     "output_type": "stream",
     "text": [
      "Hey yo battle\n"
     ]
    }
   ],
   "source": [
    "print(\"Hey yo battle\")"
   ]
  },
  {
   "cell_type": "markdown",
   "id": "79284577",
   "metadata": {},
   "source": [
    "## 更多範例"
   ]
  },
  {
   "cell_type": "code",
   "execution_count": null,
   "id": "f95c5dc6",
   "metadata": {},
   "outputs": [],
   "source": [
    "x = 10\n",
    "y = [1, 2, 3]\n"
   ]
  }
 ],
 "metadata": {
  "celltoolbar": "Slideshow",
  "kernelspec": {
   "display_name": "Python 3",
   "language": "python",
   "name": "python3"
  },
  "language_info": {
   "codemirror_mode": {
    "name": "ipython",
    "version": 3
   },
   "file_extension": ".py",
   "mimetype": "text/x-python",
   "name": "python",
   "nbconvert_exporter": "python",
   "pygments_lexer": "ipython3",
   "version": "3.8.8"
  }
 },
 "nbformat": 4,
 "nbformat_minor": 5
}
