{
 "cells": [
  {
   "cell_type": "code",
   "execution_count": 1,
   "id": "fcad4b85",
   "metadata": {},
   "outputs": [
    {
     "name": "stdout",
     "output_type": "stream",
     "text": [
      "高危:\n",
      "42\n",
      "代數:\n",
      "76\n",
      "數值:\n",
      "50\n",
      "平均:\n",
      "54.6\n",
      "被當:\n",
      "重修就好\n",
      "被當幾科:\n",
      "兩科\n"
     ]
    }
   ],
   "source": [
    "print('高危:')\n",
    "high=int(input())\n",
    "print('代數:')\n",
    "alg=int(input())\n",
    "print('數值:')\n",
    "num=int(input())\n",
    "print('平均:')\n",
    "\n",
    "avg=(high*4+alg*3+num*3)/10\n",
    "print(avg)\n",
    "print('被當:')\n",
    "if high<60 or alg<60 or num<60:\n",
    "    print('重修就好')\n",
    "else:   \n",
    "    print('過惹')\n",
    "print('被當幾科:')\n",
    "tot=0\n",
    "if high<60:\n",
    "    tot+=1\n",
    "if alg<60:\n",
    "    tot+=1\n",
    "if num<60:  \n",
    "    tot+=1\n",
    "if tot==0:\n",
    "    print('歐趴')\n",
    "elif tot==1:\n",
    "    print('一科')\n",
    "elif tot== 2:\n",
    "    print('兩科')\n",
    "elif tot==3:\n",
    "    print('三科')"
   ]
  },
  {
   "cell_type": "code",
   "execution_count": null,
   "id": "5e49602b",
   "metadata": {},
   "outputs": [],
   "source": []
  }
 ],
 "metadata": {
  "kernelspec": {
   "display_name": "Python 3",
   "language": "python",
   "name": "python3"
  },
  "language_info": {
   "codemirror_mode": {
    "name": "ipython",
    "version": 3
   },
   "file_extension": ".py",
   "mimetype": "text/x-python",
   "name": "python",
   "nbconvert_exporter": "python",
   "pygments_lexer": "ipython3",
   "version": "3.8.8"
  }
 },
 "nbformat": 4,
 "nbformat_minor": 5
}
